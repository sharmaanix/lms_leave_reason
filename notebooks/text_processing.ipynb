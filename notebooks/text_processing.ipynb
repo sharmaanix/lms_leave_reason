{
 "cells": [
  {
   "cell_type": "markdown",
   "metadata": {
    "colab_type": "text",
    "id": "t2iwSPBc-Cr3"
   },
   "source": [
    "## Import libraries"
   ]
  },
  {
   "cell_type": "code",
   "execution_count": 9,
   "metadata": {
    "colab": {},
    "colab_type": "code",
    "id": "j7bj0PAa-Cr5"
   },
   "outputs": [],
   "source": [
    "import re\n",
    "import nltk\n",
    "import pandas as pd\n",
    "import numpy as np\n",
    "from nltk.corpus import stopwords\n",
    "from nltk.tokenize import word_tokenize\n",
    "from nltk import pos_tag\n",
    "from nltk.stem  import WordNetLemmatizer\n",
    "from nltk.stem import PorterStemmer\n",
    "import contractions\n",
    "from sklearn.manifold import TSNE\n",
    "import matplotlib.pyplot as plt\n",
    "import pickle\n",
    "from sklearn.feature_extraction.text import TfidfVectorizer\n",
    "from sklearn.cluster import KMeans"
   ]
  },
  {
   "cell_type": "code",
   "execution_count": 10,
   "metadata": {
    "colab": {
     "base_uri": "https://localhost:8080/",
     "height": 238
    },
    "colab_type": "code",
    "id": "vtmX1IqTMKOF",
    "outputId": "ad0eec0c-a09b-46a5-fe2d-4a20faa61ed2"
   },
   "outputs": [
    {
     "name": "stdout",
     "output_type": "stream",
     "text": [
      "[nltk_data] Downloading package stopwords to /home/anish/nltk_data...\n",
      "[nltk_data]   Package stopwords is already up-to-date!\n",
      "[nltk_data] Downloading package punkt to /home/anish/nltk_data...\n",
      "[nltk_data]   Unzipping tokenizers/punkt.zip.\n",
      "[nltk_data] Downloading package averaged_perceptron_tagger to\n",
      "[nltk_data]     /home/anish/nltk_data...\n",
      "[nltk_data]   Unzipping taggers/averaged_perceptron_tagger.zip.\n",
      "[nltk_data] Downloading package wordnet to /home/anish/nltk_data...\n",
      "[nltk_data]   Unzipping corpora/wordnet.zip.\n",
      "[nltk_data] Downloading package brown to /home/anish/nltk_data...\n",
      "[nltk_data]   Unzipping corpora/brown.zip.\n"
     ]
    },
    {
     "data": {
      "text/plain": [
       "True"
      ]
     },
     "execution_count": 10,
     "metadata": {},
     "output_type": "execute_result"
    }
   ],
   "source": [
    "nltk.download('stopwords')\n",
    "nltk.download('punkt')\n",
    "nltk.download('averaged_perceptron_tagger')\n",
    "nltk.download('wordnet')\n",
    "nltk.download('brown')"
   ]
  },
  {
   "cell_type": "markdown",
   "metadata": {
    "colab_type": "text",
    "id": "51xhkWyx-Cr-"
   },
   "source": [
    "### Import Dataset"
   ]
  },
  {
   "cell_type": "code",
   "execution_count": 14,
   "metadata": {
    "colab": {},
    "colab_type": "code",
    "id": "mXQR3OkD-Cr_"
   },
   "outputs": [],
   "source": [
    "data_df = pd.read_csv('../data/raw/leave_reasons.csv')"
   ]
  },
  {
   "cell_type": "markdown",
   "metadata": {
    "colab_type": "text",
    "id": "YXt5mImv-CsC"
   },
   "source": [
    "### Text Processing"
   ]
  },
  {
   "cell_type": "code",
   "execution_count": 15,
   "metadata": {
    "colab": {},
    "colab_type": "code",
    "id": "u8yZTqJU-CsD"
   },
   "outputs": [],
   "source": [
    "stop_word = list(set(stopwords.words('english')))"
   ]
  },
  {
   "cell_type": "code",
   "execution_count": 16,
   "metadata": {
    "colab": {},
    "colab_type": "code",
    "id": "3pIyvxJN-CsH"
   },
   "outputs": [],
   "source": [
    "stop_word = list(filter(lambda x : x!=str('not'),stop_word))"
   ]
  },
  {
   "cell_type": "code",
   "execution_count": 17,
   "metadata": {
    "colab": {},
    "colab_type": "code",
    "id": "Y22O--02f9JV"
   },
   "outputs": [],
   "source": [
    "lemmatizer = WordNetLemmatizer()"
   ]
  },
  {
   "cell_type": "code",
   "execution_count": 18,
   "metadata": {
    "colab": {},
    "colab_type": "code",
    "id": "8qyTJnmV-CsK"
   },
   "outputs": [],
   "source": [
    "def text_processing(text):\n",
    "    \n",
    "    #removing everything except letter and space\n",
    "    temp = re.sub(r\"[^A-Za-z ]+\",r\"\",text)\n",
    "    #lower case\n",
    "    temp = temp.lower()\n",
    "    #remove unnecessary spaces\n",
    "    temp = \" \".join(temp.split())\n",
    "    #word tokenize\n",
    "    temp = word_tokenize(temp)\n",
    "    # remove stop words\n",
    "    temp = [ item for item in temp if item not in stop_word]\n",
    "    #lemmatize\n",
    "    temp = [lemmatizer.lemmatize(item) for item in temp]\n",
    "    return temp"
   ]
  },
  {
   "cell_type": "code",
   "execution_count": 19,
   "metadata": {
    "colab": {},
    "colab_type": "code",
    "id": "W3nhLNZ0q73H"
   },
   "outputs": [],
   "source": [
    "data_df['token'] = data_df['reason'].map(text_processing)"
   ]
  },
  {
   "cell_type": "code",
   "execution_count": 20,
   "metadata": {
    "colab": {},
    "colab_type": "code",
    "id": "oL_aUPHrpUCS"
   },
   "outputs": [],
   "source": [
    "def noun_phrase(token):\n",
    "  key = pos_tag(token)\n",
    "  data=[]\n",
    "  for tag in key:\n",
    "    if tag[1] == 'NN':\n",
    "      data.append(tag[0])\n",
    "  if len(data) == 0:\n",
    "    return token\n",
    "  else:\n",
    "    return list(data)"
   ]
  },
  {
   "cell_type": "code",
   "execution_count": 21,
   "metadata": {
    "colab": {},
    "colab_type": "code",
    "id": "b9pTElvxpoR5"
   },
   "outputs": [],
   "source": [
    "data_df['noun_phrase'] = data_df['token'].map(noun_phrase)"
   ]
  },
  {
   "cell_type": "code",
   "execution_count": 22,
   "metadata": {
    "colab": {},
    "colab_type": "code",
    "id": "ROTgAIrauVt8"
   },
   "outputs": [],
   "source": [
    "data_df['len'] = data_df['noun_phrase'].map(len)"
   ]
  },
  {
   "cell_type": "code",
   "execution_count": 23,
   "metadata": {
    "colab": {},
    "colab_type": "code",
    "id": "QdPrzZH0SFtD"
   },
   "outputs": [],
   "source": [
    "def replace_word(array):\n",
    "  text = \" \".join(array)\n",
    "  text = text.replace('bandha', 'strike')\n",
    "  text = text.replace('banda','strike')\n",
    "  text = text.replace('bandh', 'strike')\n",
    "  return text.split()"
   ]
  },
  {
   "cell_type": "code",
   "execution_count": 25,
   "metadata": {
    "colab": {},
    "colab_type": "code",
    "id": "VcuBbZxwSGEP"
   },
   "outputs": [],
   "source": [
    "data_df['noun_phrase'] = data_df['noun_phrase'].map(replace_word)"
   ]
  },
  {
   "cell_type": "code",
   "execution_count": 26,
   "metadata": {
    "colab": {},
    "colab_type": "code",
    "id": "Gn7z44gi_hRv"
   },
   "outputs": [],
   "source": [
    "filehandler = open(b\"../data/processed/processed_text\",\"wb\")\n",
    "pickle.dump(data_df,filehandler)"
   ]
  }
 ],
 "metadata": {
  "accelerator": "GPU",
  "colab": {
   "collapsed_sections": [],
   "name": "text_processing.ipynb",
   "provenance": [],
   "toc_visible": true,
   "version": "0.3.2"
  },
  "kernelspec": {
   "display_name": "Python 3",
   "language": "python",
   "name": "python3"
  },
  "language_info": {
   "codemirror_mode": {
    "name": "ipython",
    "version": 3
   },
   "file_extension": ".py",
   "mimetype": "text/x-python",
   "name": "python",
   "nbconvert_exporter": "python",
   "pygments_lexer": "ipython3",
   "version": "3.6.5"
  }
 },
 "nbformat": 4,
 "nbformat_minor": 1
}
