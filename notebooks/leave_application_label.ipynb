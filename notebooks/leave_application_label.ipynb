{
 "cells": [
  {
   "cell_type": "code",
   "execution_count": 1,
   "metadata": {},
   "outputs": [],
   "source": [
    "import os\n",
    "import re\n",
    "import nltk\n",
    "import pickle\n",
    "import contractions\n",
    "from nltk import pos_tag\n",
    "from nltk.corpus import stopwords\n",
    "from nltk.tokenize import word_tokenize\n",
    "from nltk.stem  import WordNetLemmatizer\n"
   ]
  },
  {
   "cell_type": "code",
   "execution_count": 12,
   "metadata": {},
   "outputs": [],
   "source": [
    "import pandas as pd"
   ]
  },
  {
   "cell_type": "code",
   "execution_count": 2,
   "metadata": {},
   "outputs": [],
   "source": [
    "os.environ[\"TF_CPP_MIN_LOG_LEVEL\"]=\"3\""
   ]
  },
  {
   "cell_type": "code",
   "execution_count": 3,
   "metadata": {},
   "outputs": [
    {
     "name": "stdout",
     "output_type": "stream",
     "text": [
      "[nltk_data] Downloading package stopwords to /home/anish/nltk_data...\n",
      "[nltk_data]   Package stopwords is already up-to-date!\n",
      "[nltk_data] Downloading package punkt to /home/anish/nltk_data...\n",
      "[nltk_data]   Package punkt is already up-to-date!\n",
      "[nltk_data] Downloading package averaged_perceptron_tagger to\n",
      "[nltk_data]     /home/anish/nltk_data...\n",
      "[nltk_data]   Package averaged_perceptron_tagger is already up-to-\n",
      "[nltk_data]       date!\n",
      "[nltk_data] Downloading package wordnet to /home/anish/nltk_data...\n",
      "[nltk_data]   Package wordnet is already up-to-date!\n",
      "[nltk_data] Downloading package brown to /home/anish/nltk_data...\n",
      "[nltk_data]   Package brown is already up-to-date!\n"
     ]
    },
    {
     "data": {
      "text/plain": [
       "True"
      ]
     },
     "execution_count": 3,
     "metadata": {},
     "output_type": "execute_result"
    }
   ],
   "source": [
    "nltk.download('stopwords')\n",
    "nltk.download('punkt')\n",
    "nltk.download('averaged_perceptron_tagger')\n",
    "nltk.download('wordnet')\n",
    "nltk.download('brown')"
   ]
  },
  {
   "cell_type": "code",
   "execution_count": 4,
   "metadata": {},
   "outputs": [],
   "source": [
    "filename = '../data/pickle_model.pkl'"
   ]
  },
  {
   "cell_type": "code",
   "execution_count": 5,
   "metadata": {},
   "outputs": [
    {
     "name": "stdout",
     "output_type": "stream",
     "text": [
      "File opened\n"
     ]
    }
   ],
   "source": [
    "with open(filename, 'rb') as file:  \n",
    "    model = pickle.load(file)\n",
    "\n",
    "print('File opened')"
   ]
  },
  {
   "cell_type": "code",
   "execution_count": 16,
   "metadata": {},
   "outputs": [],
   "source": [
    "lemmatizer = WordNetLemmatizer()\n",
    "stop_word = list(set(stopwords.words('english')))\n",
    "stop_word = list(filter(lambda x : x!=str('not'),stop_word))"
   ]
  },
  {
   "cell_type": "code",
   "execution_count": 17,
   "metadata": {},
   "outputs": [],
   "source": [
    "def text_processing(text):\n",
    "    \n",
    "    #removing everything except letter and space\n",
    "    temp = re.sub(r\"[^A-Za-z ]+\",r\"\",text)\n",
    "    #lower case\n",
    "    temp = temp.lower()\n",
    "    #remove unnecessary spaces\n",
    "    temp = \" \".join(temp.split())\n",
    "    #word tokenize\n",
    "    temp = word_tokenize(temp)\n",
    "    # remove stop words\n",
    "    temp = [ item for item in temp if item not in stop_word]\n",
    "    #lemmatize\n",
    "    temp = [lemmatizer.lemmatize(item) for item in temp]\n",
    "    \n",
    "    return temp"
   ]
  },
  {
   "cell_type": "code",
   "execution_count": 18,
   "metadata": {},
   "outputs": [],
   "source": [
    "def noun_phrase(token):\n",
    "  '''To extract important grammatical token from text'''\n",
    "\n",
    "  key = pos_tag(token)\n",
    "  data=[]\n",
    "  for tag in key:\n",
    "    if tag[1] == 'NN':\n",
    "      data.append(tag[0])\n",
    "  \n",
    "  if len(data) == 0:\n",
    "    return token\n",
    "  \n",
    "  return list(data)"
   ]
  },
  {
   "cell_type": "code",
   "execution_count": 61,
   "metadata": {},
   "outputs": [],
   "source": [
    "travel=['heatuda','hetauda','dang','chitwan','gulmi','valley','jwalakhel','kathmandu','chitwan','manakamana','kurintar','dhading']"
   ]
  },
  {
   "cell_type": "code",
   "execution_count": 62,
   "metadata": {},
   "outputs": [],
   "source": [
    "festival = ['janai','purnima','teej','rishi','panchami','dashain','tihar','tika','shravan','raksha', 'bandhan','rakchya']"
   ]
  },
  {
   "cell_type": "code",
   "execution_count": 63,
   "metadata": {},
   "outputs": [],
   "source": [
    "ceremony = ['bratabandha','janti','shraddha','pooja','sorha','sraddha','pasni','shrada','puja']"
   ]
  },
  {
   "cell_type": "code",
   "execution_count": 79,
   "metadata": {},
   "outputs": [],
   "source": [
    "def find_token(text):\n",
    "    '''\n",
    "    This function convert text, i.e string, into token\n",
    "    after doing all required pre-processing\n",
    "\n",
    "    argument: text -> input string to find token\n",
    "    returns the token\n",
    "\n",
    "    input: text of type string\n",
    "    output: strings in list\n",
    "    \n",
    "    '''\n",
    "    preprocess_text = text_processing(text)\n",
    "    noun_phrase_token = noun_phrase(preprocess_text)\n",
    "    for idx in range(len(noun_phrase_token)):\n",
    "        if noun_phrase_token[idx] in travel:\n",
    "            noun_phrase_token[idx] = 'travel'\n",
    "        elif noun_phrase_token[idx] in festival:\n",
    "            noun_phrase_token[idx] = 'festival'\n",
    "        elif noun_phrase_token[idx] in ceremony:\n",
    "            noun_phrase_token[idx] = 'ceremony'\n",
    "            \n",
    "\n",
    "    return noun_phrase_token"
   ]
  },
  {
   "cell_type": "code",
   "execution_count": 80,
   "metadata": {},
   "outputs": [],
   "source": [
    "data_df = pd.read_csv('../data/leave_application.csv')"
   ]
  },
  {
   "cell_type": "code",
   "execution_count": 82,
   "metadata": {},
   "outputs": [],
   "source": [
    "data_df['processed'] = data_df['reason'].map(find_token)"
   ]
  }
 ],
 "metadata": {
  "kernelspec": {
   "display_name": "Python 3",
   "language": "python",
   "name": "python3"
  },
  "language_info": {
   "codemirror_mode": {
    "name": "ipython",
    "version": 3
   },
   "file_extension": ".py",
   "mimetype": "text/x-python",
   "name": "python",
   "nbconvert_exporter": "python",
   "pygments_lexer": "ipython3",
   "version": "3.6.5"
  }
 },
 "nbformat": 4,
 "nbformat_minor": 2
}
